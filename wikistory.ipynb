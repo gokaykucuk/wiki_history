{
 "cells": [
  {
   "cell_type": "markdown",
   "metadata": {},
   "source": [
    "# WikiStory \n"
   ]
  },
  {
   "cell_type": "markdown",
   "metadata": {
    "pycharm": {
     "is_executing": false
    }
   },
   "source": [
    "### Setup\n",
    "\n",
    "Libraries and define constants."
   ]
  },
  {
   "cell_type": "code",
   "execution_count": 4,
   "metadata": {
    "pycharm": {
     "is_executing": false
    }
   },
   "outputs": [],
   "source": [
    "import pandas as pd\n",
    "import concurrent.futures\n",
    "import json\n",
    "import numpy as np\n",
    "import shutil\n",
    "import pathlib"
   ]
  },
  {
   "cell_type": "markdown",
   "metadata": {},
   "source": [
    "### Convert to parquet\n",
    "\n",
    "First a converesion from csv is parquet makes everything faster. If the file is in place, you don't need to run it again."
   ]
  },
  {
   "cell_type": "code",
   "execution_count": null,
   "metadata": {},
   "outputs": [],
   "source": [
    "csv_data = pd.read_csv('data.csv', quotechar ='|')\n",
    "csv_data.to_parquet('data/input.parquet', engine='pyarrow')"
   ]
  },
  {
   "cell_type": "markdown",
   "metadata": {},
   "source": [
    "### Add days to parquet\n",
    "We need to add days to our parquet as that's how we will do clustering of words for later rendering"
   ]
  },
  {
   "cell_type": "code",
   "execution_count": null,
   "metadata": {},
   "outputs": [],
   "source": [
    "input_data = pd.read_parquet('data/input.parquet', engine='pyarrow')\n",
    "\n",
    "input_data['timestamp'] = pd.to_datetime(input_data['timestamp'])\n",
    "input_data['day'] = input_data.timestamp.dt.date"
   ]
  },
  {
   "cell_type": "code",
   "execution_count": null,
   "metadata": {},
   "outputs": [],
   "source": [
    "print(input_data.head())"
   ]
  },
  {
   "cell_type": "code",
   "execution_count": null,
   "metadata": {
    "pycharm": {
     "name": "#%%\n"
    }
   },
   "outputs": [],
   "source": [
    "input_data.to_parquet('data/with_date.parquet',engine='pyarrow')"
   ]
  },
  {
   "cell_type": "markdown",
   "metadata": {
    "pycharm": {
     "name": "#%% md\n"
    }
   },
   "source": [
    "### Cleanup and Transformation"
   ]
  },
  {
   "cell_type": "code",
   "execution_count": 3,
   "metadata": {
    "scrolled": true
   },
   "outputs": [],
   "source": [
    "with_dates = pd.read_parquet('data/with_date.parquet')\n",
    "# with_dates = with_dates[with_dates.page_title != 'Tartışma:Anasayfa']\n",
    "grouped_by_date_and_title = with_dates.groupby(['day','page_title']).count()\n",
    "grouped_by_date_and_title = grouped_by_date_and_title.reset_index()"
   ]
  },
  {
   "cell_type": "markdown",
   "metadata": {},
   "source": [
    "### Filter out unnecessary words"
   ]
  },
  {
   "cell_type": "code",
   "execution_count": 4,
   "metadata": {},
   "outputs": [],
   "source": [
    "words_to_filter=[\n",
    "    \"Vikipedi\",\n",
    "    \"Kullanıcı:\",\n",
    "    \"wiki:\",\n",
    "    \"mesaj:\",\n",
    "    \"Anasayfa\",\n",
    "    \"Tartışma:\",\n",
    "    \"Kategori:\",\n",
    "    \"Şablon:\"\n",
    "]\n",
    "\n",
    "grouped_by_date_and_title[\"ignore\"] = False\n",
    "\n",
    "for word in words_to_filter:\n",
    "    grouped_by_date_and_title[\"ignore\"] = grouped_by_date_and_title[\"ignore\"] | grouped_by_date_and_title.page_title.str.contains(word)\n",
    "\n",
    "\n",
    "\n",
    "\n",
    "grouped_by_date_and_title = grouped_by_date_and_title.loc[grouped_by_date_and_title.ignore == False]"
   ]
  },
  {
   "cell_type": "markdown",
   "metadata": {},
   "source": [
    "### Save Results as Parquet"
   ]
  },
  {
   "cell_type": "code",
   "execution_count": 5,
   "metadata": {},
   "outputs": [],
   "source": [
    "grouped_by_date_and_title.to_parquet('data/grouped.parquet', engine='pyarrow')"
   ]
  },
  {
   "cell_type": "markdown",
   "metadata": {
    "pycharm": {
     "name": "#%% md\n"
    }
   },
   "source": [
    "### Save daily JSON's"
   ]
  },
  {
   "cell_type": "code",
   "execution_count": 6,
   "metadata": {
    "pycharm": {
     "is_executing": false,
     "name": "#%%\n"
    }
   },
   "outputs": [],
   "source": [
    "grouped_by_date_and_title = pd.read_parquet('data/grouped.parquet')"
   ]
  },
  {
   "cell_type": "code",
   "execution_count": 7,
   "metadata": {
    "pycharm": {
     "is_executing": true,
     "name": "#%%\n"
    }
   },
   "outputs": [
    {
     "data": {
      "text/html": [
       "<div>\n",
       "<style scoped>\n",
       "    .dataframe tbody tr th:only-of-type {\n",
       "        vertical-align: middle;\n",
       "    }\n",
       "\n",
       "    .dataframe tbody tr th {\n",
       "        vertical-align: top;\n",
       "    }\n",
       "\n",
       "    .dataframe thead th {\n",
       "        text-align: right;\n",
       "    }\n",
       "</style>\n",
       "<table border=\"1\" class=\"dataframe\">\n",
       "  <thead>\n",
       "    <tr style=\"text-align: right;\">\n",
       "      <th></th>\n",
       "      <th>index</th>\n",
       "      <th>day</th>\n",
       "      <th>page_title</th>\n",
       "      <th>page_id</th>\n",
       "      <th>page_ns</th>\n",
       "      <th>revision_id</th>\n",
       "      <th>timestamp</th>\n",
       "      <th>contributor_id</th>\n",
       "      <th>contributor_name</th>\n",
       "      <th>bytes</th>\n",
       "      <th>ignore</th>\n",
       "    </tr>\n",
       "  </thead>\n",
       "  <tbody>\n",
       "    <tr>\n",
       "      <th>0</th>\n",
       "      <td>27</td>\n",
       "      <td>2003-08-02</td>\n",
       "      <td>Karl Marx</td>\n",
       "      <td>4</td>\n",
       "      <td>4</td>\n",
       "      <td>4</td>\n",
       "      <td>4</td>\n",
       "      <td>4</td>\n",
       "      <td>4</td>\n",
       "      <td>4</td>\n",
       "      <td>False</td>\n",
       "    </tr>\n",
       "    <tr>\n",
       "      <th>1</th>\n",
       "      <td>28</td>\n",
       "      <td>2003-08-02</td>\n",
       "      <td>Linux</td>\n",
       "      <td>5</td>\n",
       "      <td>5</td>\n",
       "      <td>5</td>\n",
       "      <td>5</td>\n",
       "      <td>5</td>\n",
       "      <td>5</td>\n",
       "      <td>5</td>\n",
       "      <td>False</td>\n",
       "    </tr>\n",
       "    <tr>\n",
       "      <th>2</th>\n",
       "      <td>30</td>\n",
       "      <td>2003-08-02</td>\n",
       "      <td>Mustafa Suphi</td>\n",
       "      <td>3</td>\n",
       "      <td>3</td>\n",
       "      <td>3</td>\n",
       "      <td>3</td>\n",
       "      <td>3</td>\n",
       "      <td>3</td>\n",
       "      <td>3</td>\n",
       "      <td>False</td>\n",
       "    </tr>\n",
       "    <tr>\n",
       "      <th>3</th>\n",
       "      <td>33</td>\n",
       "      <td>2003-08-03</td>\n",
       "      <td>Karl Marx</td>\n",
       "      <td>2</td>\n",
       "      <td>2</td>\n",
       "      <td>2</td>\n",
       "      <td>2</td>\n",
       "      <td>2</td>\n",
       "      <td>2</td>\n",
       "      <td>2</td>\n",
       "      <td>False</td>\n",
       "    </tr>\n",
       "    <tr>\n",
       "      <th>4</th>\n",
       "      <td>34</td>\n",
       "      <td>2003-08-04</td>\n",
       "      <td>Beşiktaş JK</td>\n",
       "      <td>3</td>\n",
       "      <td>3</td>\n",
       "      <td>3</td>\n",
       "      <td>3</td>\n",
       "      <td>3</td>\n",
       "      <td>3</td>\n",
       "      <td>3</td>\n",
       "      <td>False</td>\n",
       "    </tr>\n",
       "    <tr>\n",
       "      <th>...</th>\n",
       "      <td>...</td>\n",
       "      <td>...</td>\n",
       "      <td>...</td>\n",
       "      <td>...</td>\n",
       "      <td>...</td>\n",
       "      <td>...</td>\n",
       "      <td>...</td>\n",
       "      <td>...</td>\n",
       "      <td>...</td>\n",
       "      <td>...</td>\n",
       "      <td>...</td>\n",
       "    </tr>\n",
       "    <tr>\n",
       "      <th>2067101</th>\n",
       "      <td>13306721</td>\n",
       "      <td>2020-03-01</td>\n",
       "      <td>1 Mart</td>\n",
       "      <td>2</td>\n",
       "      <td>2</td>\n",
       "      <td>2</td>\n",
       "      <td>2</td>\n",
       "      <td>2</td>\n",
       "      <td>2</td>\n",
       "      <td>2</td>\n",
       "      <td>False</td>\n",
       "    </tr>\n",
       "    <tr>\n",
       "      <th>2067102</th>\n",
       "      <td>13306723</td>\n",
       "      <td>2020-03-01</td>\n",
       "      <td>1367</td>\n",
       "      <td>2</td>\n",
       "      <td>2</td>\n",
       "      <td>2</td>\n",
       "      <td>2</td>\n",
       "      <td>2</td>\n",
       "      <td>2</td>\n",
       "      <td>2</td>\n",
       "      <td>False</td>\n",
       "    </tr>\n",
       "    <tr>\n",
       "      <th>2067103</th>\n",
       "      <td>13306724</td>\n",
       "      <td>2020-03-01</td>\n",
       "      <td>14. İnsansız Uçak Sistemleri Üs Meydan Komutan...</td>\n",
       "      <td>3</td>\n",
       "      <td>3</td>\n",
       "      <td>3</td>\n",
       "      <td>3</td>\n",
       "      <td>3</td>\n",
       "      <td>3</td>\n",
       "      <td>3</td>\n",
       "      <td>False</td>\n",
       "    </tr>\n",
       "    <tr>\n",
       "      <th>2067104</th>\n",
       "      <td>13306727</td>\n",
       "      <td>2020-03-01</td>\n",
       "      <td>1818 Antlaşması</td>\n",
       "      <td>2</td>\n",
       "      <td>2</td>\n",
       "      <td>2</td>\n",
       "      <td>2</td>\n",
       "      <td>2</td>\n",
       "      <td>2</td>\n",
       "      <td>2</td>\n",
       "      <td>False</td>\n",
       "    </tr>\n",
       "    <tr>\n",
       "      <th>2067105</th>\n",
       "      <td>13306731</td>\n",
       "      <td>2020-03-01</td>\n",
       "      <td>2008-09 UEFA Kupası</td>\n",
       "      <td>3</td>\n",
       "      <td>3</td>\n",
       "      <td>3</td>\n",
       "      <td>3</td>\n",
       "      <td>3</td>\n",
       "      <td>3</td>\n",
       "      <td>3</td>\n",
       "      <td>False</td>\n",
       "    </tr>\n",
       "  </tbody>\n",
       "</table>\n",
       "<p>28759 rows × 11 columns</p>\n",
       "</div>"
      ],
      "text/plain": [
       "            index         day  \\\n",
       "0              27  2003-08-02   \n",
       "1              28  2003-08-02   \n",
       "2              30  2003-08-02   \n",
       "3              33  2003-08-03   \n",
       "4              34  2003-08-04   \n",
       "...           ...         ...   \n",
       "2067101  13306721  2020-03-01   \n",
       "2067102  13306723  2020-03-01   \n",
       "2067103  13306724  2020-03-01   \n",
       "2067104  13306727  2020-03-01   \n",
       "2067105  13306731  2020-03-01   \n",
       "\n",
       "                                                page_title  page_id  page_ns  \\\n",
       "0                                                Karl Marx        4        4   \n",
       "1                                                    Linux        5        5   \n",
       "2                                            Mustafa Suphi        3        3   \n",
       "3                                                Karl Marx        2        2   \n",
       "4                                              Beşiktaş JK        3        3   \n",
       "...                                                    ...      ...      ...   \n",
       "2067101                                             1 Mart        2        2   \n",
       "2067102                                               1367        2        2   \n",
       "2067103  14. İnsansız Uçak Sistemleri Üs Meydan Komutan...        3        3   \n",
       "2067104                                    1818 Antlaşması        2        2   \n",
       "2067105                                2008-09 UEFA Kupası        3        3   \n",
       "\n",
       "         revision_id  timestamp  contributor_id  contributor_name  bytes  \\\n",
       "0                  4          4               4                 4      4   \n",
       "1                  5          5               5                 5      5   \n",
       "2                  3          3               3                 3      3   \n",
       "3                  2          2               2                 2      2   \n",
       "4                  3          3               3                 3      3   \n",
       "...              ...        ...             ...               ...    ...   \n",
       "2067101            2          2               2                 2      2   \n",
       "2067102            2          2               2                 2      2   \n",
       "2067103            3          3               3                 3      3   \n",
       "2067104            2          2               2                 2      2   \n",
       "2067105            3          3               3                 3      3   \n",
       "\n",
       "         ignore  \n",
       "0         False  \n",
       "1         False  \n",
       "2         False  \n",
       "3         False  \n",
       "4         False  \n",
       "...         ...  \n",
       "2067101   False  \n",
       "2067102   False  \n",
       "2067103   False  \n",
       "2067104   False  \n",
       "2067105   False  \n",
       "\n",
       "[28759 rows x 11 columns]"
      ]
     },
     "execution_count": 7,
     "metadata": {},
     "output_type": "execute_result"
    }
   ],
   "source": [
    "more_than_two = grouped_by_date_and_title[grouped_by_date_and_title['page_id']>1]\n",
    "more_than_two = more_than_two.reset_index()\n",
    "grouped_by_day = more_than_two.groupby('day')\n",
    "grouped_by_day.head()"
   ]
  },
  {
   "cell_type": "markdown",
   "metadata": {},
   "source": [
    "##### Cleanup data folder"
   ]
  },
  {
   "cell_type": "code",
   "execution_count": 2,
   "metadata": {},
   "outputs": [
    {
     "ename": "NameError",
     "evalue": "name 'shutil' is not defined",
     "output_type": "error",
     "traceback": [
      "\u001b[1;31m---------------------------------------------------------------------------\u001b[0m",
      "\u001b[1;31mNameError\u001b[0m                                 Traceback (most recent call last)",
      "\u001b[1;32m<ipython-input-2-1602858e3c71>\u001b[0m in \u001b[0;36m<module>\u001b[1;34m\u001b[0m\n\u001b[0;32m      1\u001b[0m \u001b[0mamcharts_data_path\u001b[0m \u001b[1;33m=\u001b[0m \u001b[1;34m\"../../nodejs/wikistoryweb/public/data\"\u001b[0m\u001b[1;33m\u001b[0m\u001b[1;33m\u001b[0m\u001b[0m\n\u001b[1;32m----> 2\u001b[1;33m \u001b[0mshutil\u001b[0m\u001b[1;33m.\u001b[0m\u001b[0mrmtree\u001b[0m\u001b[1;33m(\u001b[0m\u001b[0mamcharts_data_path\u001b[0m\u001b[1;33m,\u001b[0m \u001b[0mignore_errors\u001b[0m\u001b[1;33m=\u001b[0m\u001b[1;32mTrue\u001b[0m\u001b[1;33m)\u001b[0m\u001b[1;33m\u001b[0m\u001b[1;33m\u001b[0m\u001b[0m\n\u001b[0m\u001b[0;32m      3\u001b[0m \u001b[0mpathlib\u001b[0m\u001b[1;33m.\u001b[0m\u001b[0mPath\u001b[0m\u001b[1;33m(\u001b[0m\u001b[0mamcharts_data_path\u001b[0m\u001b[1;33m)\u001b[0m\u001b[1;33m.\u001b[0m\u001b[0mmkdir\u001b[0m\u001b[1;33m(\u001b[0m\u001b[0mparents\u001b[0m\u001b[1;33m=\u001b[0m\u001b[1;32mTrue\u001b[0m\u001b[1;33m,\u001b[0m \u001b[0mexist_ok\u001b[0m\u001b[1;33m=\u001b[0m\u001b[1;32mTrue\u001b[0m\u001b[1;33m)\u001b[0m\u001b[1;33m\u001b[0m\u001b[1;33m\u001b[0m\u001b[0m\n",
      "\u001b[1;31mNameError\u001b[0m: name 'shutil' is not defined"
     ]
    }
   ],
   "source": [
    "amcharts_data_path = \"../../nodejs/wikistoryweb/public/data\"\n",
    "shutil.rmtree(amcharts_data_path, ignore_errors=True)\n",
    "pathlib.Path(amcharts_data_path).mkdir(parents=True, exist_ok=True)\n"
   ]
  },
  {
   "cell_type": "code",
   "execution_count": 3,
   "metadata": {
    "pycharm": {
     "is_executing": false
    }
   },
   "outputs": [
    {
     "ename": "NameError",
     "evalue": "name 'concurrent' is not defined",
     "output_type": "error",
     "traceback": [
      "\u001b[1;31m---------------------------------------------------------------------------\u001b[0m",
      "\u001b[1;31mNameError\u001b[0m                                 Traceback (most recent call last)",
      "\u001b[1;32m<ipython-input-3-2a6604ea1842>\u001b[0m in \u001b[0;36m<module>\u001b[1;34m\u001b[0m\n\u001b[0;32m     12\u001b[0m \u001b[1;33m\u001b[0m\u001b[0m\n\u001b[0;32m     13\u001b[0m \u001b[1;33m\u001b[0m\u001b[0m\n\u001b[1;32m---> 14\u001b[1;33m \u001b[1;32mwith\u001b[0m \u001b[0mconcurrent\u001b[0m\u001b[1;33m.\u001b[0m\u001b[0mfutures\u001b[0m\u001b[1;33m.\u001b[0m\u001b[0mThreadPoolExecutor\u001b[0m\u001b[1;33m(\u001b[0m\u001b[0mmax_workers\u001b[0m\u001b[1;33m=\u001b[0m\u001b[1;36m1\u001b[0m\u001b[1;33m)\u001b[0m \u001b[1;32mas\u001b[0m \u001b[0mexecutor\u001b[0m\u001b[1;33m:\u001b[0m\u001b[1;33m\u001b[0m\u001b[1;33m\u001b[0m\u001b[0m\n\u001b[0m\u001b[0;32m     15\u001b[0m    \u001b[0mexecutor\u001b[0m\u001b[1;33m.\u001b[0m\u001b[0mmap\u001b[0m\u001b[1;33m(\u001b[0m\u001b[0mwrite_head\u001b[0m\u001b[1;33m,\u001b[0m \u001b[0mgrouped_by_day\u001b[0m\u001b[1;33m)\u001b[0m\u001b[1;33m\u001b[0m\u001b[1;33m\u001b[0m\u001b[0m\n\u001b[0;32m     16\u001b[0m \u001b[1;33m\u001b[0m\u001b[0m\n",
      "\u001b[1;31mNameError\u001b[0m: name 'concurrent' is not defined"
     ]
    }
   ],
   "source": [
    "def write_head(arg):\n",
    "    index = arg[0]\n",
    "    group = arg[1]\n",
    "    filename = index\n",
    "    # tags = group.apply(lambda x: {x.page_id})\n",
    "    df = group.rename(columns={\"page_id\": \"revisions\", \"page_title\":\"title\"})\n",
    "    df = df[[\"title\", \"revisions\"]]\n",
    "    mean = np.mean(df[\"revisions\"])\n",
    "    df = df[df[\"revisions\"] >= mean]\n",
    "    df[:100].to_json(f'{amcharts_data_path}/{index}.json', orient='records')\n",
    "\n",
    "\n",
    "    \n",
    "with concurrent.futures.ThreadPoolExecutor(max_workers=1) as executor:\n",
    "   executor.map(write_head, grouped_by_day)\n",
    "    \n",
    "dates = list(map(lambda x: x[0].strftime(\"%Y-%m-%d\"), grouped_by_day.day))\n",
    "    \n",
    "index_dict = {'dates': dates}\n",
    "with open(f'{amcharts_data_path}/index.json',\"w+\") as outfile:\n",
    "  json.dump(index_dict, outfile)\n"
   ]
  }
 ],
 "metadata": {
  "kernelspec": {
   "display_name": "Python 3",
   "language": "python",
   "name": "python3"
  },
  "language_info": {
   "codemirror_mode": {
    "name": "ipython",
    "version": 3
   },
   "file_extension": ".py",
   "mimetype": "text/x-python",
   "name": "python",
   "nbconvert_exporter": "python",
   "pygments_lexer": "ipython3",
   "version": "3.7.6"
  },
  "pycharm": {
   "stem_cell": {
    "cell_type": "raw",
    "metadata": {
     "collapsed": false
    },
    "source": []
   }
  }
 },
 "nbformat": 4,
 "nbformat_minor": 4
}
