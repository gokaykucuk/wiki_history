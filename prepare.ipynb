{
 "cells": [
  {
   "cell_type": "markdown",
   "metadata": {},
   "source": [
    "# Preparation Script"
   ]
  },
  {
   "cell_type": "markdown",
   "metadata": {},
   "source": [
    "### Setup"
   ]
  },
  {
   "cell_type": "code",
   "execution_count": 4,
   "metadata": {},
   "outputs": [
    {
     "name": "stdout",
     "output_type": "stream",
     "text": [
      "Requirement already satisfied: appnope==0.1.0 in /opt/anaconda3/envs/wikistory/lib/python3.7/site-packages (from -r requirements.txt (line 1)) (0.1.0)\n",
      "Requirement already satisfied: asn1crypto==1.3.0 in /opt/anaconda3/envs/wikistory/lib/python3.7/site-packages (from -r requirements.txt (line 2)) (1.3.0)\n",
      "Requirement already satisfied: attrs==19.3.0 in /opt/anaconda3/envs/wikistory/lib/python3.7/site-packages (from -r requirements.txt (line 3)) (19.3.0)\n",
      "Requirement already satisfied: backcall==0.1.0 in /opt/anaconda3/envs/wikistory/lib/python3.7/site-packages (from -r requirements.txt (line 4)) (0.1.0)\n",
      "Requirement already satisfied: bleach==3.1.0 in /opt/anaconda3/envs/wikistory/lib/python3.7/site-packages (from -r requirements.txt (line 5)) (3.1.0)\n",
      "Requirement already satisfied: certifi==2020.4.5.1 in /opt/anaconda3/envs/wikistory/lib/python3.7/site-packages (from -r requirements.txt (line 6)) (2020.4.5.1)\n",
      "Requirement already satisfied: cffi==1.14.0 in /opt/anaconda3/envs/wikistory/lib/python3.7/site-packages (from -r requirements.txt (line 7)) (1.14.0)\n",
      "Requirement already satisfied: chardet==3.0.4 in /opt/anaconda3/envs/wikistory/lib/python3.7/site-packages (from -r requirements.txt (line 8)) (3.0.4)\n",
      "Requirement already satisfied: cryptography==2.8 in /opt/anaconda3/envs/wikistory/lib/python3.7/site-packages (from -r requirements.txt (line 9)) (2.8)\n",
      "Requirement already satisfied: cycler==0.10.0 in /opt/anaconda3/envs/wikistory/lib/python3.7/site-packages (from -r requirements.txt (line 10)) (0.10.0)\n",
      "Requirement already satisfied: decorator==4.4.2 in /opt/anaconda3/envs/wikistory/lib/python3.7/site-packages (from -r requirements.txt (line 11)) (4.4.2)\n",
      "Requirement already satisfied: defusedxml==0.6.0 in /opt/anaconda3/envs/wikistory/lib/python3.7/site-packages (from -r requirements.txt (line 12)) (0.6.0)\n",
      "Requirement already satisfied: entrypoints==0.3 in /opt/anaconda3/envs/wikistory/lib/python3.7/site-packages (from -r requirements.txt (line 13)) (0.3)\n",
      "Requirement already satisfied: idna==2.9 in /opt/anaconda3/envs/wikistory/lib/python3.7/site-packages (from -r requirements.txt (line 14)) (2.9)\n",
      "Requirement already satisfied: importlib-metadata==1.5.0 in /opt/anaconda3/envs/wikistory/lib/python3.7/site-packages (from -r requirements.txt (line 15)) (1.5.0)\n",
      "Requirement already satisfied: ipykernel==5.1.4 in /opt/anaconda3/envs/wikistory/lib/python3.7/site-packages (from -r requirements.txt (line 16)) (5.1.4)\n",
      "Requirement already satisfied: ipython==7.13.0 in /opt/anaconda3/envs/wikistory/lib/python3.7/site-packages (from -r requirements.txt (line 17)) (7.13.0)\n",
      "Requirement already satisfied: ipython-genutils==0.2.0 in /opt/anaconda3/envs/wikistory/lib/python3.7/site-packages (from -r requirements.txt (line 18)) (0.2.0)\n",
      "Requirement already satisfied: jedi==0.16.0 in /opt/anaconda3/envs/wikistory/lib/python3.7/site-packages (from -r requirements.txt (line 19)) (0.16.0)\n",
      "Requirement already satisfied: Jinja2==2.11.1 in /opt/anaconda3/envs/wikistory/lib/python3.7/site-packages (from -r requirements.txt (line 20)) (2.11.1)\n",
      "Requirement already satisfied: json5==0.9.4 in /opt/anaconda3/envs/wikistory/lib/python3.7/site-packages (from -r requirements.txt (line 21)) (0.9.4)\n",
      "Requirement already satisfied: jsonschema==3.2.0 in /opt/anaconda3/envs/wikistory/lib/python3.7/site-packages (from -r requirements.txt (line 22)) (3.2.0)\n",
      "Requirement already satisfied: jupyter-client==6.1.2 in /opt/anaconda3/envs/wikistory/lib/python3.7/site-packages (from -r requirements.txt (line 23)) (6.1.2)\n",
      "Requirement already satisfied: jupyter-core==4.6.3 in /opt/anaconda3/envs/wikistory/lib/python3.7/site-packages (from -r requirements.txt (line 24)) (4.6.3)\n",
      "Requirement already satisfied: jupyterlab==1.2.6 in /opt/anaconda3/envs/wikistory/lib/python3.7/site-packages (from -r requirements.txt (line 25)) (1.2.6)\n",
      "Requirement already satisfied: jupyterlab-server==1.1.0 in /opt/anaconda3/envs/wikistory/lib/python3.7/site-packages (from -r requirements.txt (line 26)) (1.1.0)\n",
      "Requirement already satisfied: kiwisolver==1.1.0 in /opt/anaconda3/envs/wikistory/lib/python3.7/site-packages (from -r requirements.txt (line 27)) (1.1.0)\n",
      "Requirement already satisfied: MarkupSafe==1.1.1 in /opt/anaconda3/envs/wikistory/lib/python3.7/site-packages (from -r requirements.txt (line 28)) (1.1.1)\n",
      "Requirement already satisfied: matplotlib==3.1.3 in /opt/anaconda3/envs/wikistory/lib/python3.7/site-packages (from -r requirements.txt (line 29)) (3.1.3)\n",
      "Requirement already satisfied: mistune==0.8.4 in /opt/anaconda3/envs/wikistory/lib/python3.7/site-packages (from -r requirements.txt (line 30)) (0.8.4)\n",
      "Requirement already satisfied: mkl-fft==1.0.15 in /opt/anaconda3/envs/wikistory/lib/python3.7/site-packages (from -r requirements.txt (line 31)) (1.0.15)\n",
      "Requirement already satisfied: mkl-random==1.1.0 in /opt/anaconda3/envs/wikistory/lib/python3.7/site-packages (from -r requirements.txt (line 32)) (1.1.0)\n",
      "Requirement already satisfied: mkl-service==2.3.0 in /opt/anaconda3/envs/wikistory/lib/python3.7/site-packages (from -r requirements.txt (line 33)) (2.3.0)\n",
      "Requirement already satisfied: nbconvert==5.6.1 in /opt/anaconda3/envs/wikistory/lib/python3.7/site-packages (from -r requirements.txt (line 34)) (5.6.1)\n",
      "Requirement already satisfied: nbformat==5.0.4 in /opt/anaconda3/envs/wikistory/lib/python3.7/site-packages (from -r requirements.txt (line 35)) (5.0.4)\n",
      "Requirement already satisfied: notebook==6.0.3 in /opt/anaconda3/envs/wikistory/lib/python3.7/site-packages (from -r requirements.txt (line 36)) (6.0.3)\n",
      "Requirement already satisfied: numpy==1.18.1 in /opt/anaconda3/envs/wikistory/lib/python3.7/site-packages (from -r requirements.txt (line 37)) (1.18.1)\n",
      "Requirement already satisfied: pandas==1.0.3 in /opt/anaconda3/envs/wikistory/lib/python3.7/site-packages (from -r requirements.txt (line 38)) (1.0.3)\n",
      "Requirement already satisfied: pandocfilters==1.4.2 in /opt/anaconda3/envs/wikistory/lib/python3.7/site-packages (from -r requirements.txt (line 39)) (1.4.2)\n",
      "Requirement already satisfied: parso==0.6.2 in /opt/anaconda3/envs/wikistory/lib/python3.7/site-packages (from -r requirements.txt (line 40)) (0.6.2)\n",
      "Requirement already satisfied: pexpect==4.8.0 in /opt/anaconda3/envs/wikistory/lib/python3.7/site-packages (from -r requirements.txt (line 41)) (4.8.0)\n",
      "Requirement already satisfied: pickleshare==0.7.5 in /opt/anaconda3/envs/wikistory/lib/python3.7/site-packages (from -r requirements.txt (line 42)) (0.7.5)\n",
      "Requirement already satisfied: prometheus-client==0.7.1 in /opt/anaconda3/envs/wikistory/lib/python3.7/site-packages (from -r requirements.txt (line 43)) (0.7.1)\n",
      "Requirement already satisfied: prompt-toolkit==3.0.4 in /opt/anaconda3/envs/wikistory/lib/python3.7/site-packages (from -r requirements.txt (line 44)) (3.0.4)\n",
      "Requirement already satisfied: ptyprocess==0.6.0 in /opt/anaconda3/envs/wikistory/lib/python3.7/site-packages (from -r requirements.txt (line 45)) (0.6.0)\n",
      "Requirement already satisfied: pycparser==2.20 in /opt/anaconda3/envs/wikistory/lib/python3.7/site-packages (from -r requirements.txt (line 46)) (2.20)\n",
      "Requirement already satisfied: Pygments==2.6.1 in /opt/anaconda3/envs/wikistory/lib/python3.7/site-packages (from -r requirements.txt (line 47)) (2.6.1)\n",
      "Requirement already satisfied: pyOpenSSL==19.1.0 in /opt/anaconda3/envs/wikistory/lib/python3.7/site-packages (from -r requirements.txt (line 48)) (19.1.0)\n",
      "Requirement already satisfied: pyparsing==2.4.6 in /opt/anaconda3/envs/wikistory/lib/python3.7/site-packages (from -r requirements.txt (line 49)) (2.4.6)\n",
      "Requirement already satisfied: pyrsistent==0.16.0 in /opt/anaconda3/envs/wikistory/lib/python3.7/site-packages (from -r requirements.txt (line 50)) (0.16.0)\n",
      "Requirement already satisfied: PySocks==1.7.1 in /opt/anaconda3/envs/wikistory/lib/python3.7/site-packages (from -r requirements.txt (line 51)) (1.7.1)\n",
      "Requirement already satisfied: python-dateutil==2.8.1 in /opt/anaconda3/envs/wikistory/lib/python3.7/site-packages (from -r requirements.txt (line 52)) (2.8.1)\n",
      "Requirement already satisfied: pytz==2019.3 in /opt/anaconda3/envs/wikistory/lib/python3.7/site-packages (from -r requirements.txt (line 53)) (2019.3)\n",
      "Requirement already satisfied: pyzmq==18.1.1 in /opt/anaconda3/envs/wikistory/lib/python3.7/site-packages (from -r requirements.txt (line 54)) (18.1.1)\n",
      "Requirement already satisfied: requests==2.23.0 in /opt/anaconda3/envs/wikistory/lib/python3.7/site-packages (from -r requirements.txt (line 55)) (2.23.0)\n",
      "Requirement already satisfied: Send2Trash==1.5.0 in /opt/anaconda3/envs/wikistory/lib/python3.7/site-packages (from -r requirements.txt (line 56)) (1.5.0)\n",
      "Requirement already satisfied: six==1.14.0 in /opt/anaconda3/envs/wikistory/lib/python3.7/site-packages (from -r requirements.txt (line 57)) (1.14.0)\n",
      "Requirement already satisfied: terminado==0.8.3 in /opt/anaconda3/envs/wikistory/lib/python3.7/site-packages (from -r requirements.txt (line 58)) (0.8.3)\n",
      "Requirement already satisfied: testpath==0.4.4 in /opt/anaconda3/envs/wikistory/lib/python3.7/site-packages (from -r requirements.txt (line 59)) (0.4.4)\n",
      "Requirement already satisfied: tornado==6.0.4 in /opt/anaconda3/envs/wikistory/lib/python3.7/site-packages (from -r requirements.txt (line 60)) (6.0.4)\n",
      "Requirement already satisfied: traitlets==4.3.3 in /opt/anaconda3/envs/wikistory/lib/python3.7/site-packages (from -r requirements.txt (line 61)) (4.3.3)\n",
      "Requirement already satisfied: urllib3==1.25.8 in /opt/anaconda3/envs/wikistory/lib/python3.7/site-packages (from -r requirements.txt (line 62)) (1.25.8)\n",
      "Requirement already satisfied: wcwidth==0.1.9 in /opt/anaconda3/envs/wikistory/lib/python3.7/site-packages (from -r requirements.txt (line 63)) (0.1.9)\n",
      "Requirement already satisfied: webencodings==0.5.1 in /opt/anaconda3/envs/wikistory/lib/python3.7/site-packages (from -r requirements.txt (line 64)) (0.5.1)\n",
      "Requirement already satisfied: wiki-dump-parser==2.0.0 in /opt/anaconda3/envs/wikistory/lib/python3.7/site-packages (from -r requirements.txt (line 65)) (2.0.0)\n",
      "Requirement already satisfied: zipp==2.2.0 in /opt/anaconda3/envs/wikistory/lib/python3.7/site-packages (from -r requirements.txt (line 66)) (2.2.0)\n",
      "Requirement already satisfied: setuptools>=18.5 in /opt/anaconda3/envs/wikistory/lib/python3.7/site-packages (from ipython==7.13.0->-r requirements.txt (line 17)) (46.1.3.post20200330)\n"
     ]
    }
   ],
   "source": [
    "!pip install -r requirements.txt"
   ]
  },
  {
   "cell_type": "code",
   "execution_count": 24,
   "metadata": {},
   "outputs": [],
   "source": [
    "import wiki_dump_parser\n",
    "import sys\n",
    "\n",
    "from os import listdir, remove, system, devnull\n",
    "from os.path import join\n",
    "import urllib.request\n",
    "import pathlib\n",
    "import subprocess\n",
    "\n",
    "\n",
    "# Disable\n",
    "def blockPrint():\n",
    "    sys.stdout = open(devnull, 'w')\n",
    "\n",
    "# Restore\n",
    "def enablePrint():\n",
    "    sys.stdout = sys.__stdout__\n",
    "\n",
    "dataFolder=\"./data/\"\n",
    "backupDate=\"20200401\"\n",
    "language = 'en' # We can also loop through different languages as next step."
   ]
  },
  {
   "cell_type": "markdown",
   "metadata": {},
   "source": [
    "### Download Files\n",
    "First the files will be downloaded from given target.\n",
    "\n",
    "Then we need to convert xml dumps to csvs for further processing. The files should be residing in ```data/raw/xml```. Don't forget putting xml's under their respective folder, ex: ```data/raw/xml/en/enwiki-20200401-stub-meta-history1.xml```."
   ]
  },
  {
   "cell_type": "code",
   "execution_count": 25,
   "metadata": {},
   "outputs": [
    {
     "ename": "NameError",
     "evalue": "name 'xmlFileName' is not defined",
     "output_type": "error",
     "traceback": [
      "\u001b[0;31m---------------------------------------------------------------------------\u001b[0m",
      "\u001b[0;31mNameError\u001b[0m                                 Traceback (most recent call last)",
      "\u001b[0;32m<ipython-input-25-351619e2f294>\u001b[0m in \u001b[0;36m<module>\u001b[0;34m\u001b[0m\n\u001b[1;32m     35\u001b[0m     \u001b[0murllib\u001b[0m\u001b[0;34m.\u001b[0m\u001b[0mrequest\u001b[0m\u001b[0;34m.\u001b[0m\u001b[0murlretrieve\u001b[0m\u001b[0;34m(\u001b[0m\u001b[0mbackupUrl\u001b[0m\u001b[0;34m,\u001b[0m \u001b[0mfilePath\u001b[0m\u001b[0;34m)\u001b[0m\u001b[0;34m\u001b[0m\u001b[0;34m\u001b[0m\u001b[0m\n\u001b[1;32m     36\u001b[0m \u001b[0;34m\u001b[0m\u001b[0m\n\u001b[0;32m---> 37\u001b[0;31m     \u001b[0mprocessZip\u001b[0m\u001b[0;34m(\u001b[0m\u001b[0mfilePath\u001b[0m\u001b[0;34m)\u001b[0m\u001b[0;34m\u001b[0m\u001b[0;34m\u001b[0m\u001b[0m\n\u001b[0m\u001b[1;32m     38\u001b[0m \u001b[0;34m\u001b[0m\u001b[0m\n\u001b[1;32m     39\u001b[0m \u001b[0;34m\u001b[0m\u001b[0m\n",
      "\u001b[0;32m<ipython-input-25-351619e2f294>\u001b[0m in \u001b[0;36mprocessZip\u001b[0;34m(zipPath)\u001b[0m\n\u001b[1;32m     20\u001b[0m     \u001b[0mextractedFileName\u001b[0m \u001b[0;34m=\u001b[0m \u001b[0mzipPath\u001b[0m\u001b[0;34m.\u001b[0m\u001b[0mreplace\u001b[0m\u001b[0;34m(\u001b[0m\u001b[0;34m\".gz\"\u001b[0m\u001b[0;34m,\u001b[0m\u001b[0;34m\"\"\u001b[0m\u001b[0;34m)\u001b[0m\u001b[0;34m\u001b[0m\u001b[0;34m\u001b[0m\u001b[0m\n\u001b[1;32m     21\u001b[0m     \u001b[0mprint\u001b[0m\u001b[0;34m(\u001b[0m\u001b[0;34mf\"Extracted file: {zipPath}\"\u001b[0m\u001b[0;34m)\u001b[0m\u001b[0;34m\u001b[0m\u001b[0;34m\u001b[0m\u001b[0m\n\u001b[0;32m---> 22\u001b[0;31m     \u001b[0mprocessXmlData\u001b[0m\u001b[0;34m(\u001b[0m\u001b[0mextractedFileName\u001b[0m\u001b[0;34m)\u001b[0m\u001b[0;34m\u001b[0m\u001b[0;34m\u001b[0m\u001b[0m\n\u001b[0m\u001b[1;32m     23\u001b[0m \u001b[0;34m\u001b[0m\u001b[0m\n\u001b[1;32m     24\u001b[0m \u001b[0;34m\u001b[0m\u001b[0m\n",
      "\u001b[0;32m<ipython-input-25-351619e2f294>\u001b[0m in \u001b[0;36mprocessXmlData\u001b[0;34m(xmlDataFile)\u001b[0m\n\u001b[1;32m      5\u001b[0m     \u001b[0menablePrint\u001b[0m\u001b[0;34m(\u001b[0m\u001b[0;34m)\u001b[0m\u001b[0;34m\u001b[0m\u001b[0;34m\u001b[0m\u001b[0m\n\u001b[1;32m      6\u001b[0m     \u001b[0mcsvFileName\u001b[0m \u001b[0;34m=\u001b[0m \u001b[0mxmlDataFile\u001b[0m\u001b[0;34m.\u001b[0m\u001b[0mreplace\u001b[0m\u001b[0;34m(\u001b[0m\u001b[0;34m\".xml\"\u001b[0m\u001b[0;34m,\u001b[0m\u001b[0;34m\".csv\"\u001b[0m\u001b[0;34m)\u001b[0m\u001b[0;34m\u001b[0m\u001b[0;34m\u001b[0m\u001b[0m\n\u001b[0;32m----> 7\u001b[0;31m     \u001b[0mremove\u001b[0m\u001b[0;34m(\u001b[0m\u001b[0mxmlFileName\u001b[0m\u001b[0;34m)\u001b[0m\u001b[0;34m\u001b[0m\u001b[0;34m\u001b[0m\u001b[0m\n\u001b[0m\u001b[1;32m      8\u001b[0m \u001b[0;34m\u001b[0m\u001b[0m\n\u001b[1;32m      9\u001b[0m     \u001b[0;31m# Convert the csv to parquet for faster processing.\u001b[0m\u001b[0;34m\u001b[0m\u001b[0;34m\u001b[0m\u001b[0;34m\u001b[0m\u001b[0m\n",
      "\u001b[0;31mNameError\u001b[0m: name 'xmlFileName' is not defined"
     ]
    }
   ],
   "source": [
    "def processXmlData(xmlDataFile):\n",
    "    print(f\"Processing {xmlDataFile}\")\n",
    "    blockPrint()\n",
    "    wiki_dump_parser.xml_to_csv(xmlDataFile)\n",
    "    enablePrint()\n",
    "    csvFileName = xmlDataFile.replace(\".xml\",\".csv\")\n",
    "    remove(xmlFileName)\n",
    "\n",
    "    # Convert the csv to parquet for faster processing.\n",
    "    csv_data = pd.read_csv(csvFileName, quotechar ='|')\n",
    "    parquetFileName = csvFileName.replace(\".csv\", \".parquet\")\n",
    "    csv_data.to_parquet(parquetFileName, engine='pyarrow')\n",
    "    remove(csvFileName)\n",
    "    print(f\"Completed Processing {xmlDataFile}!\")\n",
    "\n",
    "\n",
    "def processZip(zipPath):\n",
    "    print(f\"Extracting: {zipPath}\")\n",
    "    result = subprocess.run(['unpigz', '-d', zipPath], capture_output=True)\n",
    "    extractedFileName = zipPath.replace(\".gz\",\"\")\n",
    "    print(f\"Extracted file: {zipPath}\")\n",
    "    processXmlData(extractedFileName)\n",
    "\n",
    "\n",
    "packs = list(map(lambda x: x+1, range(27)))\n",
    "\n",
    "for currentPack in packs:\n",
    "    languageFolder = f\"{dataFolder}{language}\"\n",
    "    pathlib.Path(languageFolder).mkdir(parents=True, exist_ok=True)\n",
    "    \n",
    "    fileName = f\"enwiki-{backupDate}-stub-meta-history{currentPack}.xml.gz\"\n",
    "    backupUrl = f\"http://ftp.acc.umu.se/mirror/wikimedia.org/dumps/{language}wiki/{backupDate}/{fileName}\"\n",
    "\n",
    "    filePath = f\"{languageFolder}/{fileName}\"\n",
    "    urllib.request.urlretrieve(backupUrl, filePath)\n",
    "    \n",
    "    processZip(filePath)\n",
    "    \n",
    "    "
   ]
  }
 ],
 "metadata": {
  "kernelspec": {
   "display_name": "Python 3",
   "language": "python",
   "name": "python3"
  },
  "language_info": {
   "codemirror_mode": {
    "name": "ipython",
    "version": 3
   },
   "file_extension": ".py",
   "mimetype": "text/x-python",
   "name": "python",
   "nbconvert_exporter": "python",
   "pygments_lexer": "ipython3",
   "version": "3.7.7"
  }
 },
 "nbformat": 4,
 "nbformat_minor": 4
}
