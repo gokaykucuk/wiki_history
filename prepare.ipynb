{
 "cells": [
  {
   "cell_type": "markdown",
   "metadata": {},
   "source": [
    "# WikiStory \n"
   ]
  },
  {
   "cell_type": "code",
   "execution_count": 2,
   "metadata": {},
   "outputs": [],
   "source": [
    "import dask\n",
    "import dask.dataframe as dd"
   ]
  },
  {
   "cell_type": "markdown",
   "metadata": {},
   "source": [
    "### Convert to parquet\n",
    "\n",
    "First a converesion from csv is parquet makes everything faster. If the file is in place, you don't need to run it again."
   ]
  },
  {
   "cell_type": "code",
   "execution_count": null,
   "metadata": {},
   "outputs": [],
   "source": [
    "csv_data = dd.read_csv('data.csv', quotechar ='|')\n",
    "csv_data.to_parquet('data/input.parquet', engine='pyarrow')"
   ]
  },
  {
   "cell_type": "markdown",
   "metadata": {},
   "source": [
    "### Add days to parquet\n",
    "We need to add days to our parquet as that's how we will do clustering of words for later rendering"
   ]
  },
  {
   "cell_type": "code",
   "execution_count": null,
   "metadata": {},
   "outputs": [],
   "source": [
    "print(\"Parsing parquet.\")\n",
    "input_data = dd.read_parquet('data/input.parquet', engine='pyarrow')\n",
    "print(\"Adding day columns.\")\n",
    "input_data['timestamp'] = dd.to_datetime(input_data.timestamp,format='%Y/%m/%d %H:%M')\n",
    "input_data['day'] = input_data.timestamp.dt.date\n",
    "\n",
    "print(input_data['day'].head())\n",
    "# input_data['timestamp'] = pd.to_datetime(input_data['timestamp'])\n",
    "# input_data['day'] = input_data.timestamp.dt.date"
   ]
  },
  {
   "cell_type": "code",
   "execution_count": null,
   "metadata": {},
   "outputs": [],
   "source": [
    "input_data = input_data[input_data.page_title != 'Tartışma:Anasayfa']\n",
    "\n",
    "day_title_grouped = input_data.groupby(['day','page_title']).count()\n",
    "\n",
    "day_title_grouped = input_data.groupby(['day','page_title'])['page_title'].apply(len)"
   ]
  },
  {
   "cell_type": "code",
   "execution_count": null,
   "metadata": {},
   "outputs": [],
   "source": [
    "\n",
    "print(input_data.head())\n",
    "\n",
    "input_data.to_parquet('data/with_day.parquet', engine='pyarrow')\n",
    "\n",
    "\n",
    "\n",
    "# output to static HTML file\n",
    "# output_file(\"log_lines.html\")\n",
    "\n",
    "# source = ColumnDataSource(day_title_grouped)\n",
    "\n",
    "# p = figure()\n",
    "# # add some renderers\n",
    "# p.circle(x='x_values', y='y_values', source=source)\n",
    "# # p.circle(x, x, legend_label=\"y=x\", fill_color=\"white\", size=8)\n",
    "# # p.line(x, y0, legend_label=\"y=x^2\", line_width=3)\n",
    "# # p.line(x, y1, legend_label=\"y=10^x\", line_color=\"red\")\n",
    "# # p.circle(x, y1, legend_label=\"y=10^x\", fill_color=\"red\", line_color=\"red\", size=6)\n",
    "# # p.line(x, y2, legend_label=\"y=10^x^2\", line_color=\"orange\", line_dash=\"4 4\")\n",
    "\n",
    "# # show the results\n",
    "# show(p)\n",
    "# # for row in group_date_title.iterrows():\n",
    "# #     print(row[1].page_title)\n",
    "\n"
   ]
  },
  {
   "cell_type": "code",
   "execution_count": null,
   "metadata": {},
   "outputs": [],
   "source": []
  }
 ],
 "metadata": {
  "kernelspec": {
   "display_name": "Python 3",
   "language": "python",
   "name": "python3"
  },
  "language_info": {
   "codemirror_mode": {
    "name": "ipython",
    "version": 3
   },
   "file_extension": ".py",
   "mimetype": "text/x-python",
   "name": "python",
   "nbconvert_exporter": "python",
   "pygments_lexer": "ipython3",
   "version": "3.8.2"
  }
 },
 "nbformat": 4,
 "nbformat_minor": 4
}
