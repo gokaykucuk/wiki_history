{
 "cells": [
  {
   "cell_type": "markdown",
   "metadata": {},
   "source": [
    "# Preparation Script"
   ]
  },
  {
   "cell_type": "markdown",
   "metadata": {},
   "source": [
    "### Setup"
   ]
  },
  {
   "cell_type": "code",
   "execution_count": 2,
   "metadata": {},
   "outputs": [],
   "source": [
    "import wiki_dump_parser\n",
    "from os import listdir, remove\n",
    "from os.path import join\n",
    "import subprocess\n",
    "from multiprocessing import Pool"
   ]
  },
  {
   "cell_type": "markdown",
   "metadata": {},
   "source": [
    "### Dump to csv\n",
    "\n",
    "First we need to convert xml dumps to csvs for further processing. The files should be residing in ```data/raw/xml```. Don't forget putting xml's under their respective folder, ex: ```data/raw/xml/en/enwiki-20200401-stub-meta-history1.xml```."
   ]
  },
  {
   "cell_type": "markdown",
   "metadata": {},
   "source": [
    "### Gather the filenames"
   ]
  },
  {
   "cell_type": "code",
   "execution_count": 3,
   "metadata": {},
   "outputs": [
    {
     "data": {
      "text/plain": [
       "{'en': ['./data/raw\\\\en\\\\enwiki-20200401-stub-meta-history1.xml.gz',\n",
       "  './data/raw\\\\en\\\\enwiki-20200401-stub-meta-history10.xml.gz',\n",
       "  './data/raw\\\\en\\\\enwiki-20200401-stub-meta-history11.xml.gz',\n",
       "  './data/raw\\\\en\\\\enwiki-20200401-stub-meta-history12.xml.gz',\n",
       "  './data/raw\\\\en\\\\enwiki-20200401-stub-meta-history13.xml',\n",
       "  './data/raw\\\\en\\\\enwiki-20200401-stub-meta-history13.xml.gz',\n",
       "  './data/raw\\\\en\\\\enwiki-20200401-stub-meta-history14.xml',\n",
       "  './data/raw\\\\en\\\\enwiki-20200401-stub-meta-history14.xml.gz',\n",
       "  './data/raw\\\\en\\\\enwiki-20200401-stub-meta-history15.xml',\n",
       "  './data/raw\\\\en\\\\enwiki-20200401-stub-meta-history15.xml.gz',\n",
       "  './data/raw\\\\en\\\\enwiki-20200401-stub-meta-history16.xml',\n",
       "  './data/raw\\\\en\\\\enwiki-20200401-stub-meta-history17.xml',\n",
       "  './data/raw\\\\en\\\\enwiki-20200401-stub-meta-history18.xml',\n",
       "  './data/raw\\\\en\\\\enwiki-20200401-stub-meta-history19.xml.gz',\n",
       "  './data/raw\\\\en\\\\enwiki-20200401-stub-meta-history2.xml.gz',\n",
       "  './data/raw\\\\en\\\\enwiki-20200401-stub-meta-history20.xml.gz',\n",
       "  './data/raw\\\\en\\\\enwiki-20200401-stub-meta-history21.xml.gz',\n",
       "  './data/raw\\\\en\\\\enwiki-20200401-stub-meta-history22.xml.gz',\n",
       "  './data/raw\\\\en\\\\enwiki-20200401-stub-meta-history23.xml.gz',\n",
       "  './data/raw\\\\en\\\\enwiki-20200401-stub-meta-history24.xml.gz',\n",
       "  './data/raw\\\\en\\\\enwiki-20200401-stub-meta-history25.xml.gz',\n",
       "  './data/raw\\\\en\\\\enwiki-20200401-stub-meta-history26.xml.gz',\n",
       "  './data/raw\\\\en\\\\enwiki-20200401-stub-meta-history27.xml.gz',\n",
       "  './data/raw\\\\en\\\\enwiki-20200401-stub-meta-history3.xml.gz',\n",
       "  './data/raw\\\\en\\\\enwiki-20200401-stub-meta-history4.xml.gz',\n",
       "  './data/raw\\\\en\\\\enwiki-20200401-stub-meta-history5.xml.gz',\n",
       "  './data/raw\\\\en\\\\enwiki-20200401-stub-meta-history6.xml.gz',\n",
       "  './data/raw\\\\en\\\\enwiki-20200401-stub-meta-history7.xml.gz',\n",
       "  './data/raw\\\\en\\\\enwiki-20200401-stub-meta-history8.xml.gz',\n",
       "  './data/raw\\\\en\\\\enwiki-20200401-stub-meta-history9.xml.gz']}"
      ]
     },
     "execution_count": 3,
     "metadata": {},
     "output_type": "execute_result"
    }
   ],
   "source": [
    "rawXmlsPath = \"./data/raw\"\n",
    "rawDataAtlas = {}\n",
    "\n",
    "for langdir in listdir(rawXmlsPath):\n",
    "    langdirPath = join(rawXmlsPath, langdir)\n",
    "    rawDataAtlas[langdir] = []\n",
    "    for xmlFile in listdir(langdirPath):\n",
    "        xmlFilePath = join(langdirPath, xmlFile)\n",
    "        rawDataAtlas[langdir].append(xmlFilePath)\n",
    "# print(listdir(rawXmlsPath))\n",
    "\n",
    "rawDataAtlas"
   ]
  },
  {
   "cell_type": "markdown",
   "metadata": {},
   "source": [
    "### Convert the files to csvs"
   ]
  },
  {
   "cell_type": "code",
   "execution_count": null,
   "metadata": {},
   "outputs": [],
   "source": [
    "def processXmlData(xmlDataFile):\n",
    "    print(f\"Processing {xmlDataFile}\")\n",
    "    wiki_dump_parser.xml_to_csv(xmlFileName)\n",
    "    csvFileName = xmlFileName.replace(\".xml\",\".csv\")\n",
    "    remove(xmlFileName)\n",
    "\n",
    "    # Convert the csv to parquet for faster processing.\n",
    "    csv_data = pd.read_csv(csvFileName, quotechar ='|')\n",
    "    parquetFileName = csvFileName.replace(\".csv\", \".parquet\")\n",
    "    csv_data.to_parquet(parquetFileName, engine='pyarrow')\n",
    "    remove(csvFileName)\n",
    "    print(f\"Completed Processing {xmlDataFile}!\")\n",
    "\n",
    "\n",
    "def processZip(zipPath):\n",
    "    print(f\"Extracting: {rawDataFile}\")\n",
    "    # result = subprocess.run(['./unpigz.exe', '-d', rawDataFile], capture_output=True)\n",
    "    extractedFileName = rawDataFile.replace(\".gz\",\"\")\n",
    "    print(f\"Extracted file: {rawDataFile}\")\n",
    "    processXmlData(extractedFileName)\n",
    "    \n",
    "for languageKey in rawDataAtlas:\n",
    "    rawDataFiles = rawDataAtlas[languageKey]\n",
    "    # print(rawDataFiles)\n",
    "    processPool = Pool(6)\n",
    "    processPool.map(processZip, rawDataFiles)    "
   ]
  },
  {
   "cell_type": "code",
   "execution_count": null,
   "metadata": {},
   "outputs": [],
   "source": []
  }
 ],
 "metadata": {
  "kernelspec": {
   "display_name": "Python 3.7.7 64-bit ('wikihistory': conda)",
   "language": "python",
   "name": "python37764bitwikihistorycondae5496bb79c7746ef953ff76fe63a0388"
  },
  "language_info": {
   "codemirror_mode": {
    "name": "ipython",
    "version": 3
   },
   "file_extension": ".py",
   "mimetype": "text/x-python",
   "name": "python",
   "nbconvert_exporter": "python",
   "pygments_lexer": "ipython3",
   "version": "3.7.7"
  }
 },
 "nbformat": 4,
 "nbformat_minor": 4
}
