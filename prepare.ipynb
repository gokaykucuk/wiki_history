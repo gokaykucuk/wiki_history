{
 "cells": [
  {
   "cell_type": "markdown",
   "metadata": {},
   "source": [
    "# Preparation Script"
   ]
  },
  {
   "cell_type": "markdown",
   "metadata": {},
   "source": [
    "### Setup"
   ]
  },
  {
   "cell_type": "code",
   "execution_count": 9,
   "metadata": {},
   "outputs": [],
   "source": [
    "import wiki_dump_parser\n",
    "from os import listdir, remove, system\n",
    "from os.path import join\n",
    "import subprocess\n",
    "from multiprocessing import Pool\n",
    "dataFolder=\"./data/\"\n",
    "backupDate=\"20200401\"\n"
   ]
  },
  {
   "cell_type": "markdown",
   "metadata": {},
   "source": [
    "### Download Files"
   ]
  },
  {
   "cell_type": "code",
   "execution_count": 19,
   "metadata": {},
   "outputs": [
    {
     "ename": "FileNotFoundError",
     "evalue": "[WinError 2] The system cannot find the file specified",
     "output_type": "error",
     "traceback": [
      "\u001b[1;31m---------------------------------------------------------------------------\u001b[0m",
      "\u001b[1;31mFileNotFoundError\u001b[0m                         Traceback (most recent call last)",
      "\u001b[1;32m<ipython-input-19-d7c6eacb44e8>\u001b[0m in \u001b[0;36m<module>\u001b[1;34m\u001b[0m\n\u001b[0;32m      4\u001b[0m     \u001b[0mfileName\u001b[0m \u001b[1;33m=\u001b[0m \u001b[1;34mf\"{dataFolder}/{currentPack}\"\u001b[0m\u001b[1;33m\u001b[0m\u001b[1;33m\u001b[0m\u001b[0m\n\u001b[0;32m      5\u001b[0m     \u001b[1;31m#result = system(command, shell=True)\u001b[0m\u001b[1;33m\u001b[0m\u001b[1;33m\u001b[0m\u001b[1;33m\u001b[0m\u001b[0m\n\u001b[1;32m----> 6\u001b[1;33m     \u001b[0msubprocess\u001b[0m\u001b[1;33m.\u001b[0m\u001b[0mcall\u001b[0m\u001b[1;33m(\u001b[0m\u001b[1;33m[\u001b[0m\u001b[1;34m\"wget.exe\"\u001b[0m\u001b[1;33m,\u001b[0m\u001b[1;34m\"-0\"\u001b[0m\u001b[1;33m,\u001b[0m\u001b[1;34mf\"{dataFolder}/{currentPack}.xml.gz\"\u001b[0m\u001b[1;33m,\u001b[0m\u001b[1;34m\"http://ftp.acc.umu.se/mirror/wikimedia.org/dumps/enwiki/{backupDate}/enwiki-{backupDate}-stub-meta-history{currentPack}.xml.gz\"\u001b[0m\u001b[1;33m]\u001b[0m\u001b[1;33m)\u001b[0m\u001b[1;33m\u001b[0m\u001b[1;33m\u001b[0m\u001b[0m\n\u001b[0m",
      "\u001b[1;32m~\\Anaconda3\\envs\\wikihistory\\lib\\subprocess.py\u001b[0m in \u001b[0;36mcall\u001b[1;34m(timeout, *popenargs, **kwargs)\u001b[0m\n\u001b[0;32m    337\u001b[0m     \u001b[0mretcode\u001b[0m \u001b[1;33m=\u001b[0m \u001b[0mcall\u001b[0m\u001b[1;33m(\u001b[0m\u001b[1;33m[\u001b[0m\u001b[1;34m\"ls\"\u001b[0m\u001b[1;33m,\u001b[0m \u001b[1;34m\"-l\"\u001b[0m\u001b[1;33m]\u001b[0m\u001b[1;33m)\u001b[0m\u001b[1;33m\u001b[0m\u001b[1;33m\u001b[0m\u001b[0m\n\u001b[0;32m    338\u001b[0m     \"\"\"\n\u001b[1;32m--> 339\u001b[1;33m     \u001b[1;32mwith\u001b[0m \u001b[0mPopen\u001b[0m\u001b[1;33m(\u001b[0m\u001b[1;33m*\u001b[0m\u001b[0mpopenargs\u001b[0m\u001b[1;33m,\u001b[0m \u001b[1;33m**\u001b[0m\u001b[0mkwargs\u001b[0m\u001b[1;33m)\u001b[0m \u001b[1;32mas\u001b[0m \u001b[0mp\u001b[0m\u001b[1;33m:\u001b[0m\u001b[1;33m\u001b[0m\u001b[1;33m\u001b[0m\u001b[0m\n\u001b[0m\u001b[0;32m    340\u001b[0m         \u001b[1;32mtry\u001b[0m\u001b[1;33m:\u001b[0m\u001b[1;33m\u001b[0m\u001b[1;33m\u001b[0m\u001b[0m\n\u001b[0;32m    341\u001b[0m             \u001b[1;32mreturn\u001b[0m \u001b[0mp\u001b[0m\u001b[1;33m.\u001b[0m\u001b[0mwait\u001b[0m\u001b[1;33m(\u001b[0m\u001b[0mtimeout\u001b[0m\u001b[1;33m=\u001b[0m\u001b[0mtimeout\u001b[0m\u001b[1;33m)\u001b[0m\u001b[1;33m\u001b[0m\u001b[1;33m\u001b[0m\u001b[0m\n",
      "\u001b[1;32m~\\Anaconda3\\envs\\wikihistory\\lib\\subprocess.py\u001b[0m in \u001b[0;36m__init__\u001b[1;34m(self, args, bufsize, executable, stdin, stdout, stderr, preexec_fn, close_fds, shell, cwd, env, universal_newlines, startupinfo, creationflags, restore_signals, start_new_session, pass_fds, encoding, errors, text)\u001b[0m\n\u001b[0;32m    798\u001b[0m                                 \u001b[0mc2pread\u001b[0m\u001b[1;33m,\u001b[0m \u001b[0mc2pwrite\u001b[0m\u001b[1;33m,\u001b[0m\u001b[1;33m\u001b[0m\u001b[1;33m\u001b[0m\u001b[0m\n\u001b[0;32m    799\u001b[0m                                 \u001b[0merrread\u001b[0m\u001b[1;33m,\u001b[0m \u001b[0merrwrite\u001b[0m\u001b[1;33m,\u001b[0m\u001b[1;33m\u001b[0m\u001b[1;33m\u001b[0m\u001b[0m\n\u001b[1;32m--> 800\u001b[1;33m                                 restore_signals, start_new_session)\n\u001b[0m\u001b[0;32m    801\u001b[0m         \u001b[1;32mexcept\u001b[0m\u001b[1;33m:\u001b[0m\u001b[1;33m\u001b[0m\u001b[1;33m\u001b[0m\u001b[0m\n\u001b[0;32m    802\u001b[0m             \u001b[1;31m# Cleanup if the child failed starting.\u001b[0m\u001b[1;33m\u001b[0m\u001b[1;33m\u001b[0m\u001b[1;33m\u001b[0m\u001b[0m\n",
      "\u001b[1;32m~\\Anaconda3\\envs\\wikihistory\\lib\\subprocess.py\u001b[0m in \u001b[0;36m_execute_child\u001b[1;34m(self, args, executable, preexec_fn, close_fds, pass_fds, cwd, env, startupinfo, creationflags, shell, p2cread, p2cwrite, c2pread, c2pwrite, errread, errwrite, unused_restore_signals, unused_start_new_session)\u001b[0m\n\u001b[0;32m   1205\u001b[0m                                          \u001b[0menv\u001b[0m\u001b[1;33m,\u001b[0m\u001b[1;33m\u001b[0m\u001b[1;33m\u001b[0m\u001b[0m\n\u001b[0;32m   1206\u001b[0m                                          \u001b[0mos\u001b[0m\u001b[1;33m.\u001b[0m\u001b[0mfspath\u001b[0m\u001b[1;33m(\u001b[0m\u001b[0mcwd\u001b[0m\u001b[1;33m)\u001b[0m \u001b[1;32mif\u001b[0m \u001b[0mcwd\u001b[0m \u001b[1;32mis\u001b[0m \u001b[1;32mnot\u001b[0m \u001b[1;32mNone\u001b[0m \u001b[1;32melse\u001b[0m \u001b[1;32mNone\u001b[0m\u001b[1;33m,\u001b[0m\u001b[1;33m\u001b[0m\u001b[1;33m\u001b[0m\u001b[0m\n\u001b[1;32m-> 1207\u001b[1;33m                                          startupinfo)\n\u001b[0m\u001b[0;32m   1208\u001b[0m             \u001b[1;32mfinally\u001b[0m\u001b[1;33m:\u001b[0m\u001b[1;33m\u001b[0m\u001b[1;33m\u001b[0m\u001b[0m\n\u001b[0;32m   1209\u001b[0m                 \u001b[1;31m# Child is launched. Close the parent's copy of those pipe\u001b[0m\u001b[1;33m\u001b[0m\u001b[1;33m\u001b[0m\u001b[1;33m\u001b[0m\u001b[0m\n",
      "\u001b[1;31mFileNotFoundError\u001b[0m: [WinError 2] The system cannot find the file specified"
     ]
    }
   ],
   "source": [
    "\n",
    "packs = list(map(lambda x: x+1, range(27)))\n",
    "\n",
    "for currentPack in packs:\n",
    "    fileName = f\"{dataFolder}/{currentPack}\"\n",
    "    #result = system(command, shell=True)\n",
    "    subprocess.call([\"wget\",\"-0\",f\"{dataFolder}/{currentPack}.xml.gz\",\"http://ftp.acc.umu.se/mirror/wikimedia.org/dumps/enwiki/{backupDate}/enwiki-{backupDate}-stub-meta-history{currentPack}.xml.gz\"])"
   ]
  },
  {
   "cell_type": "markdown",
   "metadata": {},
   "source": [
    "### Dump to csv\n",
    "\n",
    "First we need to convert xml dumps to csvs for further processing. The files should be residing in ```data/raw/xml```. Don't forget putting xml's under their respective folder, ex: ```data/raw/xml/en/enwiki-20200401-stub-meta-history1.xml```."
   ]
  },
  {
   "cell_type": "markdown",
   "metadata": {},
   "source": [
    "### Gather the filenames"
   ]
  },
  {
   "cell_type": "code",
   "execution_count": 3,
   "metadata": {},
   "outputs": [
    {
     "data": {
      "text/plain": [
       "{'en': ['./data/raw\\\\en\\\\enwiki-20200401-stub-meta-history1.xml.gz',\n",
       "  './data/raw\\\\en\\\\enwiki-20200401-stub-meta-history10.xml.gz',\n",
       "  './data/raw\\\\en\\\\enwiki-20200401-stub-meta-history11.xml.gz',\n",
       "  './data/raw\\\\en\\\\enwiki-20200401-stub-meta-history12.xml.gz',\n",
       "  './data/raw\\\\en\\\\enwiki-20200401-stub-meta-history13.xml',\n",
       "  './data/raw\\\\en\\\\enwiki-20200401-stub-meta-history13.xml.gz',\n",
       "  './data/raw\\\\en\\\\enwiki-20200401-stub-meta-history14.xml',\n",
       "  './data/raw\\\\en\\\\enwiki-20200401-stub-meta-history14.xml.gz',\n",
       "  './data/raw\\\\en\\\\enwiki-20200401-stub-meta-history15.xml',\n",
       "  './data/raw\\\\en\\\\enwiki-20200401-stub-meta-history15.xml.gz',\n",
       "  './data/raw\\\\en\\\\enwiki-20200401-stub-meta-history16.xml',\n",
       "  './data/raw\\\\en\\\\enwiki-20200401-stub-meta-history17.xml',\n",
       "  './data/raw\\\\en\\\\enwiki-20200401-stub-meta-history18.xml',\n",
       "  './data/raw\\\\en\\\\enwiki-20200401-stub-meta-history19.xml.gz',\n",
       "  './data/raw\\\\en\\\\enwiki-20200401-stub-meta-history2.xml.gz',\n",
       "  './data/raw\\\\en\\\\enwiki-20200401-stub-meta-history20.xml.gz',\n",
       "  './data/raw\\\\en\\\\enwiki-20200401-stub-meta-history21.xml.gz',\n",
       "  './data/raw\\\\en\\\\enwiki-20200401-stub-meta-history22.xml.gz',\n",
       "  './data/raw\\\\en\\\\enwiki-20200401-stub-meta-history23.xml.gz',\n",
       "  './data/raw\\\\en\\\\enwiki-20200401-stub-meta-history24.xml.gz',\n",
       "  './data/raw\\\\en\\\\enwiki-20200401-stub-meta-history25.xml.gz',\n",
       "  './data/raw\\\\en\\\\enwiki-20200401-stub-meta-history26.xml.gz',\n",
       "  './data/raw\\\\en\\\\enwiki-20200401-stub-meta-history27.xml.gz',\n",
       "  './data/raw\\\\en\\\\enwiki-20200401-stub-meta-history3.xml.gz',\n",
       "  './data/raw\\\\en\\\\enwiki-20200401-stub-meta-history4.xml.gz',\n",
       "  './data/raw\\\\en\\\\enwiki-20200401-stub-meta-history5.xml.gz',\n",
       "  './data/raw\\\\en\\\\enwiki-20200401-stub-meta-history6.xml.gz',\n",
       "  './data/raw\\\\en\\\\enwiki-20200401-stub-meta-history7.xml.gz',\n",
       "  './data/raw\\\\en\\\\enwiki-20200401-stub-meta-history8.xml.gz',\n",
       "  './data/raw\\\\en\\\\enwiki-20200401-stub-meta-history9.xml.gz']}"
      ]
     },
     "execution_count": 3,
     "metadata": {},
     "output_type": "execute_result"
    }
   ],
   "source": [
    "rawXmlsPath = f\"{dataFolder}/raw\"\n",
    "rawDataAtlas = {}\n",
    "\n",
    "for langdir in listdir(rawXmlsPath):\n",
    "    langdirPath = join(rawXmlsPath, langdir)\n",
    "    rawDataAtlas[langdir] = []\n",
    "    for xmlFile in listdir(langdirPath):\n",
    "        xmlFilePath = join(langdirPath, xmlFile)\n",
    "        rawDataAtlas[langdir].append(xmlFilePath)\n",
    "# print(listdir(rawXmlsPath))\n",
    "\n",
    "rawDataAtlas"
   ]
  },
  {
   "cell_type": "markdown",
   "metadata": {},
   "source": [
    "### Convert the files to csvs"
   ]
  },
  {
   "cell_type": "code",
   "execution_count": null,
   "metadata": {},
   "outputs": [],
   "source": [
    "def processXmlData(xmlDataFile):\n",
    "    print(f\"Processing {xmlDataFile}\")\n",
    "    wiki_dump_parser.xml_to_csv(xmlFileName)\n",
    "    csvFileName = xmlFileName.replace(\".xml\",\".csv\")\n",
    "    remove(xmlFileName)\n",
    "\n",
    "    # Convert the csv to parquet for faster processing.\n",
    "    csv_data = pd.read_csv(csvFileName, quotechar ='|')\n",
    "    parquetFileName = csvFileName.replace(\".csv\", \".parquet\")\n",
    "    csv_data.to_parquet(parquetFileName, engine='pyarrow')\n",
    "    remove(csvFileName)\n",
    "    print(f\"Completed Processing {xmlDataFile}!\")\n",
    "\n",
    "\n",
    "def processZip(zipPath):\n",
    "    print(f\"Extracting: {rawDataFile}\")\n",
    "    # result = subprocess.run(['./unpigz.exe', '-d', rawDataFile], capture_output=True)\n",
    "    extractedFileName = rawDataFile.replace(\".gz\",\"\")\n",
    "    print(f\"Extracted file: {rawDataFile}\")\n",
    "    processXmlData(extractedFileName)\n",
    "    \n",
    "for languageKey in rawDataAtlas:\n",
    "    rawDataFiles = rawDataAtlas[languageKey]\n",
    "    # print(rawDataFiles)\n",
    "    processPool = Pool(6)\n",
    "    processPool.map(processZip, rawDataFiles)    "
   ]
  },
  {
   "cell_type": "code",
   "execution_count": null,
   "metadata": {},
   "outputs": [],
   "source": []
  }
 ],
 "metadata": {
  "kernelspec": {
   "display_name": "Python 3.7.7 64-bit ('wikihistory': conda)",
   "language": "python",
   "name": "python37764bitwikihistorycondae5496bb79c7746ef953ff76fe63a0388"
  },
  "language_info": {
   "codemirror_mode": {
    "name": "ipython",
    "version": 3
   },
   "file_extension": ".py",
   "mimetype": "text/x-python",
   "name": "python",
   "nbconvert_exporter": "python",
   "pygments_lexer": "ipython3",
   "version": "3.7.7"
  }
 },
 "nbformat": 4,
 "nbformat_minor": 4
}
